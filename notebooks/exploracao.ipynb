{
  "cells": [
    {
      "cell_type": "markdown",
      "metadata": {
        "id": "UvO5pg_A1Vuk"
      },
      "source": [
        "### Importações"
      ]
    },
    {
      "cell_type": "code",
      "execution_count": 6,
      "metadata": {
        "id": "_OlWfqr_1Ijh"
      },
      "outputs": [],
      "source": [
        "import json\n",
        "import csv"
      ]
    },
    {
      "cell_type": "markdown",
      "metadata": {
        "id": "_8xUlpvz1huj"
      },
      "source": [
        "### Lendo os dados"
      ]
    },
    {
      "cell_type": "code",
      "execution_count": 7,
      "metadata": {
        "id": "OGU8qKqs1ohP"
      },
      "outputs": [],
      "source": [
        "with open('../data_raw/dados_empresaA.json', 'r') as file:\n",
        "    dados_json = json.load(file)"
      ]
    },
    {
      "cell_type": "code",
      "execution_count": 8,
      "metadata": {
        "id": "xtLOZdIK1pu2"
      },
      "outputs": [],
      "source": [
        "dados_csv = []\n",
        "with open('../data_raw/dados_empresaB.csv', 'r') as file:\n",
        "    spamreader = csv.DictReader(file, delimiter=',')\n",
        "    for row in spamreader:\n",
        "        dados_csv.append(row)"
      ]
    },
    {
      "cell_type": "code",
      "execution_count": 9,
      "metadata": {
        "colab": {
          "base_uri": "https://localhost:8080/"
        },
        "id": "Wr0ry3_V1sfs",
        "outputId": "49a2a7bb-e150-4dde-bffe-a590ea33cf1f"
      },
      "outputs": [
        {
          "data": {
            "text/plain": [
              "{'Nome do Produto': 'Blush em pó',\n",
              " 'Categoria do Produto': 'Eletrodomésticos',\n",
              " 'Preço do Produto (R$)': 79.41,\n",
              " 'Quantidade em Estoque': 7,\n",
              " 'Filial': 'Filial 7'}"
            ]
          },
          "execution_count": 9,
          "metadata": {},
          "output_type": "execute_result"
        }
      ],
      "source": [
        "dados_json[0]"
      ]
    },
    {
      "cell_type": "code",
      "execution_count": 10,
      "metadata": {
        "colab": {
          "base_uri": "https://localhost:8080/"
        },
        "id": "kNs_6KPY1tAE",
        "outputId": "152d08fc-e370-40ef-a294-e9b7ca39c710"
      },
      "outputs": [
        {
          "data": {
            "text/plain": [
              "{'Nome do Item': 'Lápis de sobrancelha',\n",
              " 'Classificação do Produto': 'Roupas',\n",
              " 'Valor em Reais (R$)': '55.17',\n",
              " 'Quantidade em Estoque': '62',\n",
              " 'Nome da Loja': 'Filial 1',\n",
              " 'Data da Venda': '2023-04-13 18:58:06.794203'}"
            ]
          },
          "execution_count": 10,
          "metadata": {},
          "output_type": "execute_result"
        }
      ],
      "source": [
        "dados_csv[0]"
      ]
    },
    {
      "cell_type": "markdown",
      "metadata": {
        "id": "COqt5FdDKKe5"
      },
      "source": [
        "### Trocando o nome dos campos"
      ]
    },
    {
      "cell_type": "code",
      "execution_count": 11,
      "metadata": {
        "colab": {
          "base_uri": "https://localhost:8080/"
        },
        "id": "fA9WVazU1urc",
        "outputId": "695a2c10-2861-46d5-ecfc-472d849857f3"
      },
      "outputs": [
        {
          "data": {
            "text/plain": [
              "['Nome do Produto',\n",
              " 'Categoria do Produto',\n",
              " 'Preço do Produto (R$)',\n",
              " 'Quantidade em Estoque',\n",
              " 'Filial']"
            ]
          },
          "execution_count": 11,
          "metadata": {},
          "output_type": "execute_result"
        }
      ],
      "source": [
        "nome_colunas_json = list(dados_json[0].keys())\n",
        "nome_colunas_json"
      ]
    },
    {
      "cell_type": "code",
      "execution_count": 12,
      "metadata": {
        "colab": {
          "base_uri": "https://localhost:8080/"
        },
        "id": "Iv8jyl-_6_1j",
        "outputId": "eafbbc44-e115-4516-a864-1f1b69be2f5c"
      },
      "outputs": [
        {
          "data": {
            "text/plain": [
              "['Nome do Item',\n",
              " 'Classificação do Produto',\n",
              " 'Valor em Reais (R$)',\n",
              " 'Quantidade em Estoque',\n",
              " 'Nome da Loja',\n",
              " 'Data da Venda']"
            ]
          },
          "execution_count": 12,
          "metadata": {},
          "output_type": "execute_result"
        }
      ],
      "source": [
        "nome_colunas_csv = list(dados_csv[0].keys())\n",
        "nome_colunas_csv"
      ]
    },
    {
      "cell_type": "code",
      "execution_count": 13,
      "metadata": {
        "colab": {
          "base_uri": "https://localhost:8080/"
        },
        "id": "uMCJdjuqINbE",
        "outputId": "184685a2-0869-4b1f-84d1-2295d36e2fc2"
      },
      "outputs": [
        {
          "data": {
            "text/plain": [
              "{'Nome do Item': 'Nome do Produto',\n",
              " 'Classificação do Produto': 'Categoria do Produto',\n",
              " 'Valor em Reais (R$)': 'Preço do Produto (R$)',\n",
              " 'Quantidade em Estoque': 'Quantidade em Estoque',\n",
              " 'Nome da Loja': 'Filial',\n",
              " 'Data da Venda': 'Data da Venda'}"
            ]
          },
          "execution_count": 13,
          "metadata": {},
          "output_type": "execute_result"
        }
      ],
      "source": [
        "key_mapping = {'Nome do Item': 'Nome do Produto',\n",
        "                'Classificação do Produto': 'Categoria do Produto',\n",
        "                'Valor em Reais (R$)': 'Preço do Produto (R$)',\n",
        "                'Quantidade em Estoque': 'Quantidade em Estoque',\n",
        "                'Nome da Loja': 'Filial',\n",
        "                'Data da Venda': 'Data da Venda'}\n",
        "key_mapping"
      ]
    },
    {
      "cell_type": "code",
      "execution_count": 14,
      "metadata": {
        "colab": {
          "base_uri": "https://localhost:8080/"
        },
        "id": "QHZ83wwZYrMJ",
        "outputId": "a75b6776-9dd0-47e9-92d4-23697b618858"
      },
      "outputs": [
        {
          "data": {
            "text/plain": [
              "{'Nome do Produto': 'Lápis de sobrancelha',\n",
              " 'Categoria do Produto': 'Roupas',\n",
              " 'Preço do Produto (R$)': '55.17',\n",
              " 'Quantidade em Estoque': '62',\n",
              " 'Filial': 'Filial 1',\n",
              " 'Data da Venda': '2023-04-13 18:58:06.794203'}"
            ]
          },
          "execution_count": 14,
          "metadata": {},
          "output_type": "execute_result"
        }
      ],
      "source": [
        "new_dados_csv = []\n",
        "\n",
        "for old_dict in dados_csv:\n",
        "  dict_temp = {}\n",
        "  for old_key, value in old_dict.items():\n",
        "    dict_temp[key_mapping[old_key]] = value\n",
        "  new_dados_csv.append(dict_temp)\n",
        "new_dados_csv[0]"
      ]
    },
    {
      "cell_type": "markdown",
      "metadata": {
        "id": "3tIBdRScK8Ya"
      },
      "source": [
        "### Juntando os arquivos"
      ]
    },
    {
      "cell_type": "code",
      "execution_count": 15,
      "metadata": {
        "colab": {
          "base_uri": "https://localhost:8080/"
        },
        "id": "cLoUfqpnJUy5",
        "outputId": "9d160348-46eb-43f7-8fe8-5750bc272e32"
      },
      "outputs": [
        {
          "data": {
            "text/plain": [
              "3123"
            ]
          },
          "execution_count": 15,
          "metadata": {},
          "output_type": "execute_result"
        }
      ],
      "source": [
        "len(dados_json)"
      ]
    },
    {
      "cell_type": "code",
      "execution_count": 16,
      "metadata": {
        "colab": {
          "base_uri": "https://localhost:8080/"
        },
        "id": "PS89GjWJKG5e",
        "outputId": "781d61ec-8b95-4327-90f5-76f9cb9b1fb6"
      },
      "outputs": [
        {
          "data": {
            "text/plain": [
              "1323"
            ]
          },
          "execution_count": 16,
          "metadata": {},
          "output_type": "execute_result"
        }
      ],
      "source": [
        "len(new_dados_csv)"
      ]
    },
    {
      "cell_type": "code",
      "execution_count": 17,
      "metadata": {
        "colab": {
          "base_uri": "https://localhost:8080/"
        },
        "id": "MZpYMpiDMs6H",
        "outputId": "f71974cc-cb65-4abe-8148-efea6a691387"
      },
      "outputs": [
        {
          "data": {
            "text/plain": [
              "4446"
            ]
          },
          "execution_count": 17,
          "metadata": {},
          "output_type": "execute_result"
        }
      ],
      "source": [
        "len(dados_json) + len(new_dados_csv)"
      ]
    },
    {
      "cell_type": "code",
      "execution_count": 18,
      "metadata": {
        "id": "drynN6LMMLze"
      },
      "outputs": [],
      "source": [
        "combined_list = []\n",
        "combined_list.extend(dados_json)\n",
        "combined_list.extend(new_dados_csv)"
      ]
    },
    {
      "cell_type": "code",
      "execution_count": 19,
      "metadata": {
        "colab": {
          "base_uri": "https://localhost:8080/"
        },
        "id": "AfnF3WbbMgaC",
        "outputId": "e722d147-b0c5-47a6-c0cc-42b6729b6984"
      },
      "outputs": [
        {
          "data": {
            "text/plain": [
              "4446"
            ]
          },
          "execution_count": 19,
          "metadata": {},
          "output_type": "execute_result"
        }
      ],
      "source": [
        "len(combined_list)"
      ]
    },
    {
      "cell_type": "code",
      "execution_count": 20,
      "metadata": {
        "colab": {
          "base_uri": "https://localhost:8080/"
        },
        "id": "nK9jZN04Mw1O",
        "outputId": "b1f95304-d12d-48d1-92e5-6eaecb8c0950"
      },
      "outputs": [
        {
          "data": {
            "text/plain": [
              "{'Nome do Produto': 'Blush em pó',\n",
              " 'Categoria do Produto': 'Eletrodomésticos',\n",
              " 'Preço do Produto (R$)': 79.41,\n",
              " 'Quantidade em Estoque': 7,\n",
              " 'Filial': 'Filial 7'}"
            ]
          },
          "execution_count": 20,
          "metadata": {},
          "output_type": "execute_result"
        }
      ],
      "source": [
        "combined_list[0]"
      ]
    },
    {
      "cell_type": "code",
      "execution_count": 21,
      "metadata": {
        "colab": {
          "base_uri": "https://localhost:8080/"
        },
        "id": "DLLTT4F5Myj2",
        "outputId": "abb64cad-5475-477d-9d49-5c21d7cf9e78"
      },
      "outputs": [
        {
          "data": {
            "text/plain": [
              "{'Nome do Produto': 'Blush em pó',\n",
              " 'Categoria do Produto': 'Eletrodomésticos',\n",
              " 'Preço do Produto (R$)': 79.41,\n",
              " 'Quantidade em Estoque': 7,\n",
              " 'Filial': 'Filial 7'}"
            ]
          },
          "execution_count": 21,
          "metadata": {},
          "output_type": "execute_result"
        }
      ],
      "source": [
        "dados_json[0]"
      ]
    },
    {
      "cell_type": "code",
      "execution_count": 22,
      "metadata": {
        "colab": {
          "base_uri": "https://localhost:8080/"
        },
        "id": "nRImrMoCM_77",
        "outputId": "e0c09b30-27a5-4a10-9501-e0e7b149c230"
      },
      "outputs": [
        {
          "data": {
            "text/plain": [
              "{'Nome do Produto': 'Sombra de olhos',\n",
              " 'Categoria do Produto': 'Eletrônicos',\n",
              " 'Preço do Produto (R$)': '41.73',\n",
              " 'Quantidade em Estoque': '5',\n",
              " 'Filial': 'Filial 6',\n",
              " 'Data da Venda': '2022-11-21 18:58:06.794203'}"
            ]
          },
          "execution_count": 22,
          "metadata": {},
          "output_type": "execute_result"
        }
      ],
      "source": [
        "combined_list[4445]"
      ]
    },
    {
      "cell_type": "code",
      "execution_count": 23,
      "metadata": {
        "colab": {
          "base_uri": "https://localhost:8080/"
        },
        "id": "dNHZBnv2NCw9",
        "outputId": "103a44db-ac04-4a19-f79a-a83c6c4125ac"
      },
      "outputs": [
        {
          "data": {
            "text/plain": [
              "{'Nome do Produto': 'Sombra de olhos',\n",
              " 'Categoria do Produto': 'Eletrônicos',\n",
              " 'Preço do Produto (R$)': '41.73',\n",
              " 'Quantidade em Estoque': '5',\n",
              " 'Filial': 'Filial 6',\n",
              " 'Data da Venda': '2022-11-21 18:58:06.794203'}"
            ]
          },
          "execution_count": 23,
          "metadata": {},
          "output_type": "execute_result"
        }
      ],
      "source": [
        "#new_dados_csv[1322]\n",
        "new_dados_csv[-1]"
      ]
    },
    {
      "cell_type": "markdown",
      "metadata": {
        "id": "FkvKrHRYP4-x"
      },
      "source": [
        "### Salvando os dados"
      ]
    },
    {
      "cell_type": "code",
      "execution_count": 24,
      "metadata": {
        "colab": {
          "base_uri": "https://localhost:8080/"
        },
        "id": "kavcekkFOkDY",
        "outputId": "47d59190-256a-4f31-8d5c-75df5064ffb2"
      },
      "outputs": [
        {
          "data": {
            "text/plain": [
              "['Nome do Produto',\n",
              " 'Categoria do Produto',\n",
              " 'Preço do Produto (R$)',\n",
              " 'Quantidade em Estoque',\n",
              " 'Filial']"
            ]
          },
          "execution_count": 24,
          "metadata": {},
          "output_type": "execute_result"
        }
      ],
      "source": [
        "nome_colunas = list(combined_list[0].keys())\n",
        "nome_colunas"
      ]
    },
    {
      "cell_type": "code",
      "execution_count": 25,
      "metadata": {
        "colab": {
          "base_uri": "https://localhost:8080/"
        },
        "id": "FJnhCPhJPCRn",
        "outputId": "d20ee13d-aa69-4750-df74-3fd7f90853ab"
      },
      "outputs": [
        {
          "data": {
            "text/plain": [
              "['Nome do Produto',\n",
              " 'Categoria do Produto',\n",
              " 'Preço do Produto (R$)',\n",
              " 'Quantidade em Estoque',\n",
              " 'Filial',\n",
              " 'Data da Venda']"
            ]
          },
          "execution_count": 25,
          "metadata": {},
          "output_type": "execute_result"
        }
      ],
      "source": [
        "nome_colunas = list(combined_list[-1].keys())\n",
        "nome_colunas"
      ]
    },
    {
      "cell_type": "markdown",
      "metadata": {
        "id": "GBcvy9ptTODg"
      },
      "source": [
        "Adicionando o campo 'Data de venda'"
      ]
    },
    {
      "cell_type": "code",
      "execution_count": 26,
      "metadata": {
        "id": "5oHbQ3kwReC0"
      },
      "outputs": [],
      "source": [
        "dados_combinados_tabela = [nome_colunas]\n",
        "\n",
        "for row in combined_list:\n",
        "  linha = []\n",
        "  for coluna in nome_colunas:\n",
        "    linha.append(row.get(coluna, 'Indisponível'))\n",
        "  dados_combinados_tabela.append(linha)"
      ]
    },
    {
      "cell_type": "code",
      "execution_count": 27,
      "metadata": {
        "colab": {
          "base_uri": "https://localhost:8080/"
        },
        "id": "z9XUPH8DSMT5",
        "outputId": "0a522146-28d0-48fa-cefb-de45324ab225"
      },
      "outputs": [
        {
          "data": {
            "text/plain": [
              "['Sombra de olhos',\n",
              " 'Eletrônicos',\n",
              " '41.73',\n",
              " '5',\n",
              " 'Filial 6',\n",
              " '2022-11-21 18:58:06.794203']"
            ]
          },
          "execution_count": 27,
          "metadata": {},
          "output_type": "execute_result"
        }
      ],
      "source": [
        "dados_combinados_tabela[-1]"
      ]
    },
    {
      "cell_type": "markdown",
      "metadata": {
        "id": "6X_H8h5dTZaw"
      },
      "source": [
        "Salvando"
      ]
    },
    {
      "cell_type": "code",
      "execution_count": 29,
      "metadata": {
        "id": "y0Wyj6s9NHGx"
      },
      "outputs": [],
      "source": [
        "with open('../data_processed/dados_combinados.csv', 'w') as file:\n",
        "  writer = csv.writer(file)\n",
        "  writer.writerows(dados_combinados_tabela)"
      ]
    }
  ],
  "metadata": {
    "colab": {
      "provenance": []
    },
    "kernelspec": {
      "display_name": "Python 3",
      "name": "python3"
    },
    "language_info": {
      "codemirror_mode": {
        "name": "ipython",
        "version": 3
      },
      "file_extension": ".py",
      "mimetype": "text/x-python",
      "name": "python",
      "nbconvert_exporter": "python",
      "pygments_lexer": "ipython3",
      "version": "3.10.12"
    }
  },
  "nbformat": 4,
  "nbformat_minor": 0
}
